{
 "cells": [
  {
   "cell_type": "code",
   "execution_count": 656,
   "metadata": {},
   "outputs": [],
   "source": [
    "import os\n",
    "import numpy as np\n",
    "from PIL import Image\n",
    "import random\n",
    "import matplotlib.pyplot as plt"
   ]
  },
  {
   "cell_type": "code",
   "execution_count": 657,
   "metadata": {},
   "outputs": [],
   "source": [
    "OBJ_FILENAMES = [\n",
    "    ('models/', 'african_head.obj'),\n",
    "    ('models/', 'body.obj'),\n",
    "    ('models/', 'diablo3_pose.obj'),\n",
    "]\n",
    "WIDTH, HEIGHT = 800, 800\n",
    "\n",
    "OUTPUT_DIRS = [\n",
    "    'project_output/step_1/',\n",
    "    'project_output/step_2/',\n",
    "    # 'project_output/step_3/',\n",
    "]\n",
    "\n",
    "LIGHT_DIR = np.array([0, 0, -1])"
   ]
  },
  {
   "cell_type": "code",
   "execution_count": 658,
   "metadata": {},
   "outputs": [],
   "source": [
    "for output_dir in OUTPUT_DIRS:\n",
    "    if not os.path.exists(output_dir):\n",
    "        os.makedirs(output_dir)"
   ]
  },
  {
   "cell_type": "markdown",
   "metadata": {},
   "source": [
    "<h1>Reading a model</h1>"
   ]
  },
  {
   "cell_type": "code",
   "execution_count": 659,
   "metadata": {},
   "outputs": [],
   "source": [
    "def bresenham_line(x0, y0, x1, y1):\n",
    "    points = []\n",
    "    dx = abs(x1 - x0)\n",
    "    dy = abs(y1 - y0)\n",
    "    sx = 1 if x0 < x1 else -1\n",
    "    sy = 1 if y0 < y1 else -1\n",
    "    err = dx - dy\n",
    "\n",
    "    while True:\n",
    "        points.append((x0, y0))\n",
    "        if x0 == x1 and y0 == y1:\n",
    "            break\n",
    "        e2 = 2 * err\n",
    "        if e2 > -dy:\n",
    "            err -= dy\n",
    "            x0 += sx\n",
    "        if e2 < dx:\n",
    "            err += dx\n",
    "            y0 += sy\n",
    "\n",
    "    return points"
   ]
  },
  {
   "cell_type": "code",
   "execution_count": 660,
   "metadata": {},
   "outputs": [],
   "source": [
    "def parse_obj(filename):\n",
    "    vertices = []\n",
    "    faces = []\n",
    "    edges = []\n",
    "\n",
    "    with open(filename, 'r') as file:\n",
    "        for line in file:\n",
    "            if line.startswith('v '):\n",
    "                parts = line.split()\n",
    "                vertices.append((float(parts[1]), float(parts[2]), float(parts[3])))\n",
    "            elif line.startswith('f '):\n",
    "                parts = line.split()\n",
    "                face_vertices = [int(p.split('/')[0]) - 1 for p in parts[1:]]  # Convert 1-based indices to 0-based\n",
    "                \n",
    "                # Store face data\n",
    "                if len(face_vertices) == 3:\n",
    "                    faces.append((face_vertices[0], face_vertices[1], face_vertices[2]))\n",
    "                elif len(face_vertices) > 3:  # Fan triangulation\n",
    "                    for i in range(1, len(face_vertices) - 1):\n",
    "                        faces.append((face_vertices[0], face_vertices[i], face_vertices[i + 1]))\n",
    "\n",
    "                # Store edge data\n",
    "                for i in range(len(face_vertices)):\n",
    "                    v0 = face_vertices[i]\n",
    "                    v1 = face_vertices[(i + 1) % len(face_vertices)]\n",
    "                    edges.append((v0, v1))\n",
    "\n",
    "    return vertices, edges, faces"
   ]
  },
  {
   "cell_type": "code",
   "execution_count": 661,
   "metadata": {},
   "outputs": [],
   "source": [
    "def project_vertex(vertex, width, height):\n",
    "    x, y, _ = vertex\n",
    "    screen_x = int((x + 1) * width / 2)\n",
    "    screen_y = int((1 - y) * height / 2)  # Flip Y-axis\n",
    "    return screen_x, screen_y"
   ]
  },
  {
   "cell_type": "code",
   "execution_count": 662,
   "metadata": {},
   "outputs": [],
   "source": [
    "def render_model(vertices, edges, width, height, output_filename):\n",
    "    image = Image.new('RGB', (width, height), 'white')\n",
    "    pixels = image.load()\n",
    "\n",
    "    for edge in edges:\n",
    "        v0, v1 = edge\n",
    "        x0, y0 = project_vertex(vertices[v0], width, height)\n",
    "        x1, y1 = project_vertex(vertices[v1], width, height)\n",
    "        for x, y in bresenham_line(x0, y0, x1, y1):\n",
    "            if 0 <= x < width and 0 <= y < height:\n",
    "                pixels[x, y] = (0, 0, 0)\n",
    "\n",
    "    image.save(output_filename)"
   ]
  },
  {
   "cell_type": "code",
   "execution_count": 663,
   "metadata": {},
   "outputs": [],
   "source": [
    "for dir, file in OBJ_FILENAMES:\n",
    "    obj_path = f\"{dir}{file}\"\n",
    "    vertices, edges, _ = parse_obj(filename=obj_path)\n",
    "\n",
    "    out_path = f\"{OUTPUT_DIRS[0]}{file.removesuffix('.obj')}.png\"\n",
    "    render_model(vertices, edges, WIDTH, HEIGHT, out_path)"
   ]
  },
  {
   "cell_type": "markdown",
   "metadata": {},
   "source": [
    "<h1>Rendering triangles</h1>"
   ]
  },
  {
   "cell_type": "code",
   "execution_count": 664,
   "metadata": {},
   "outputs": [],
   "source": [
    "def draw_filled_triangle(v0, v1, v2, image, color, z_buffer=None):\n",
    "    # Sort vertices by y-coordinate\n",
    "    vertices = sorted([v0, v1, v2], key=lambda v: v[1])\n",
    "    x0, y0, z0 = vertices[0]\n",
    "    x1, y1, z1 = vertices[1]\n",
    "    x2, y2, z2 = vertices[2]\n",
    "\n",
    "    def interpolate(y, y0, x0, y1, x1):\n",
    "        if y1 == y0:\n",
    "            return x0\n",
    "        return x0 + (y - y0) * (x1 - x0) / (y1 - y0)\n",
    "\n",
    "    def draw_scanline(y, x_start, x_end):\n",
    "        for x in range(int(x_start), int(x_end) + 1):\n",
    "            if 0 <= x < image.width and 0 <= y < image.height:\n",
    "                image.putpixel((x, y), color)\n",
    "\n",
    "    # Draw upper part of the triangle\n",
    "    for y in range(int(y0), int(y1) + 1):\n",
    "        x_start = interpolate(y, y0, x0, y2, x2)\n",
    "        x_end = interpolate(y, y0, x0, y1, x1)\n",
    "        if x_start > x_end:\n",
    "            x_start, x_end = x_end, x_start\n",
    "        draw_scanline(y, x_start, x_end)\n",
    "\n",
    "    # Draw lower part of the triangle\n",
    "    for y in range(int(y1) + 1, int(y2) + 1):\n",
    "        x_start = interpolate(y, y1, x1, y2, x2)\n",
    "        x_end = interpolate(y, y0, x0, y2, x2)\n",
    "        if x_start > x_end:\n",
    "            x_start, x_end = x_end, x_start\n",
    "        draw_scanline(y, x_start, x_end)"
   ]
  },
  {
   "cell_type": "code",
   "execution_count": 665,
   "metadata": {},
   "outputs": [],
   "source": [
    "for dir, file in OBJ_FILENAMES:\n",
    "    obj_path = f\"{dir}{file}\"\n",
    "    vertices, _, faces = parse_obj(obj_path)\n",
    "\n",
    "    params =[\n",
    "        (False, False, f\"{OUTPUT_DIRS[1]}random/\",   f\"{file.removesuffix('.obj')}.png\"),\n",
    "        (True,  False, f\"{OUTPUT_DIRS[1]}lighting/\", f\"{file.removesuffix('.obj')}.png\"),\n",
    "        # (True,  True,  f\"{OUTPUT_DIRS[2]}z_buffer/\", f\"{file.removesuffix('.obj')}.png\"),\n",
    "    ]\n",
    "\n",
    "    intensities = []\n",
    "    normals = []\n",
    "    for use_lighting, use_z_buffer, out_dir, out_file in params:\n",
    "        image = Image.new('RGB', (WIDTH, HEIGHT), 'black')\n",
    "        z_buffer = np.full((HEIGHT, WIDTH), np.inf) if use_z_buffer else None\n",
    "\n",
    "        for face in faces:\n",
    "            if use_lighting:\n",
    "                # Get world-space coordinates (before projection)\n",
    "                world_v0, world_v1, world_v2 = [vertices[i] for i in face]\n",
    "\n",
    "                # Compute normal in 3D world space\n",
    "                edge1 = np.subtract(world_v2, world_v0)\n",
    "                edge2 = np.subtract(world_v1, world_v0)\n",
    "                normal = np.cross(edge1, edge2)\n",
    "                normal = normal / np.linalg.norm(normal)\n",
    "\n",
    "                # Normalize light direction\n",
    "                light_dir = LIGHT_DIR / np.linalg.norm(LIGHT_DIR)\n",
    "\n",
    "                # Compute lighting intensity using 3D normal\n",
    "                intensity = np.dot(normal, LIGHT_DIR)\n",
    "                intensity = np.clip(intensity, 0, 1)\n",
    "\n",
    "                if intensity <= 0:\n",
    "                    continue # Back-face culling\n",
    "\n",
    "                # Convert intensity to grayscale color\n",
    "                color = tuple(int(intensity * 255) for _ in range(3))\n",
    "            else:\n",
    "                color = (random.randint(0, 255), random.randint(0, 255), random.randint(0, 255))\n",
    "\n",
    "            # Project the 3D vertices to screen space AFTER computing lighting\n",
    "            v0, v1, v2 = [project_vertex(vertices[i], WIDTH, HEIGHT) + (vertices[i][2],) for i in face]\n",
    "\n",
    "            # Draw filled triangle using computed lighting\n",
    "            draw_filled_triangle(v0, v1, v2, image, color, z_buffer)\n",
    "\n",
    "            # Store intensities and normals\n",
    "            intensities.append(intensity)\n",
    "            normals.append(normal)\n",
    "\n",
    "        if not os.path.exists(out_dir):\n",
    "            os.makedirs(out_dir)\n",
    "\n",
    "        image.save(f\"{out_dir}{out_file}\")"
   ]
  },
  {
   "cell_type": "code",
   "execution_count": 666,
   "metadata": {},
   "outputs": [
    {
     "data": {
      "image/png": "[encoded data removed]",
      "text/plain": [
       "<Figure size 2000x300 with 4 Axes>"
      ]
     },
     "metadata": {},
     "output_type": "display_data"
    }
   ],
   "source": [
    "normals_all_stack = np.stack(normals)\n",
    "\n",
    "# Plot Intensity Distribution\n",
    "plt.figure(figsize=(20, 3))\n",
    "\n",
    "plt.subplot(1, 4, 1)\n",
    "plt.hist(intensities, bins=50, color='blue', alpha=0.7)\n",
    "plt.title(\"Intensity Distribution\")\n",
    "plt.xlabel(\"Intensity\")\n",
    "plt.ylabel(\"Frequency\")\n",
    "\n",
    "data = [(0, 'X'), (1, 'Y'), (2, 'Z')]\n",
    "\n",
    "for i, coord in data:\n",
    "    plt.subplot(1, 4, 2 + i)\n",
    "    plt.hist(normals_all_stack[:,i], bins=50, alpha=0.7)\n",
    "    plt.title(f\"Normal Distribution ({coord})\")\n",
    "    plt.xlabel(coord)\n",
    "    plt.ylabel(\"Frequency\")\n",
    "\n",
    "plt.show()"
   ]
  }
 ],
 "metadata": {
  "kernelspec": {
   "display_name": "Python 3",
   "language": "python",
   "name": "python3"
  },
  "language_info": {
   "codemirror_mode": {
    "name": "ipython",
    "version": 3
   },
   "file_extension": ".py",
   "mimetype": "text/x-python",
   "name": "python",
   "nbconvert_exporter": "python",
   "pygments_lexer": "ipython3",
   "version": "3.9.6"
  }
 },
 "nbformat": 4,
 "nbformat_minor": 2
}
